{
 "cells": [
  {
   "cell_type": "code",
   "execution_count": null,
   "metadata": {},
   "outputs": [],
   "source": [
    "from IPython.display import display, HTML, Javascript"
   ]
  },
  {
   "cell_type": "code",
   "execution_count": null,
   "metadata": {},
   "outputs": [],
   "source": [
    "# Create html code to embed the elm generated Javascript code into the notebook...\n",
    "elm = \"\"\"<script>\n",
    "\"\"\" + open(\"elm_counter/elm_counter.js\",\"r\").read() + \"\"\"\n",
    "</script>\n",
    "\"\"\""
   ]
  },
  {
   "cell_type": "code",
   "execution_count": null,
   "metadata": {},
   "outputs": [],
   "source": [
    "# Embed the javascript code into the notebook, using the ipython display engine\n",
    "# This may currently load the Elm script more then once, which will produce an error.\n",
    "# In that case: clear all outputs, save the notebook and rerun the cells...\n",
    "display(HTML(elm))"
   ]
  },
  {
   "cell_type": "code",
   "execution_count": null,
   "metadata": {},
   "outputs": [],
   "source": [
    "import traitlets\n",
    "\n",
    "# The following class uses traitlets to make a copy of the counter state observable\n",
    "class Counter(traitlets.HasTraits):\n",
    "    count = traitlets.Int()\n",
    "    \n",
    "    # The _repr_html_ method is used to embed the Elm app and provide a DOM node for Elm\n",
    "    def _repr_html_(self):\n",
    "        self.__id = 'counter1'\n",
    "        self.__app = 'app1'\n",
    "        return \"\"\"<div id='\"\"\" + self.__id + \"\"\"'></div>\n",
    "<script>\n",
    "var \"\"\" + self.__app + \"\"\" = Elm.Main.init({\n",
    "    node: document.getElementById('\"\"\" + self.__id + \"\"\"')\n",
    "});\n",
    "\n",
    "</script>\"\"\"\n",
    "    \n",
    "    # Whenever the count value is changed from python, that change is propagated to Elm with javascript\n",
    "    @traitlets.observe('count')\n",
    "    def _count_changed(self, change):\n",
    "        if not change['old'] == change['new']:\n",
    "            display(Javascript(self.__app + \".ports.portSetValue.send({})\".format(self.count)))\n",
    "    \n",
    "# Receiving counter changes from Elm requires a subscription on the corresponding port, which has to be done\n",
    "# in Javascript. (See example below)"
   ]
  },
  {
   "cell_type": "code",
   "execution_count": null,
   "metadata": {},
   "outputs": [],
   "source": [
    "# Create a counter and display the Elm output\n",
    "c = Counter()\n",
    "c"
   ]
  },
  {
   "cell_type": "code",
   "execution_count": null,
   "metadata": {},
   "outputs": [],
   "source": [
    "# Set the counter value from python\n",
    "c.count=4"
   ]
  },
  {
   "cell_type": "code",
   "execution_count": null,
   "metadata": {},
   "outputs": [],
   "source": [
    "# Observe the changes in the Elm output\n",
    "c.count=6"
   ]
  },
  {
   "cell_type": "code",
   "execution_count": null,
   "metadata": {},
   "outputs": [],
   "source": [
    "# Change the Elm counter using the buttons. This change is not available here, since the callback is not registered.\n",
    "c.count"
   ]
  },
  {
   "cell_type": "code",
   "execution_count": null,
   "metadata": {},
   "outputs": [],
   "source": [
    "# This class does not use the traitlets, but exposes a property, which calls into the Elm code on write.\n",
    "# The corresponding callback is registered, however, it relies on the object variables name, which is\n",
    "# wrong.\n",
    "# A synchronous call into the Elm code to get the current counter value would be great to implement the\n",
    "# property getter method.\n",
    "class Counter2(object):\n",
    "    def __init__(self):\n",
    "        self.__id = 'counter2'\n",
    "        self.__app = 'app2'\n",
    "    \n",
    "    # Include a node in the DOM and register a callback for changes of the counter value as well as\n",
    "    # a request to receive the current value asynchronously for the first time.\n",
    "    def _repr_html_(self):\n",
    "        return \"\"\"<div id='\"\"\" + self.__id + \"\"\"'></div>\n",
    "<script>\n",
    "var \"\"\" + self.__app + \"\"\" = Elm.Main.init({\n",
    "    node: document.getElementById('\"\"\" + self.__id + \"\"\"')\n",
    "});\n",
    "\n",
    "\"\"\" + self.__app + \"\"\".ports.portSendValue.subscribe(function (value) {\n",
    "        IPython.notebook.kernel.execute(\"c2.count=\"+value);\n",
    "    });\n",
    "    \n",
    "\"\"\" + self.__app + \"\"\".ports.requestCountValue.send(null);\n",
    "</script>\"\"\"\n",
    "    \n",
    "    # Return the shadow copy of the counter value\n",
    "    @property\n",
    "    def count(self):\n",
    "        return self._count\n",
    "    \n",
    "    # Update the shadow value of the counter and request Elm to update the counter value in Elm as well\n",
    "    @count.setter\n",
    "    def count(self, value):\n",
    "        self._count = value\n",
    "        display(Javascript(self.__app + \".ports.portSetValue.send({})\".format(value)))"
   ]
  },
  {
   "cell_type": "code",
   "execution_count": null,
   "metadata": {},
   "outputs": [],
   "source": [
    "c2 = Counter2()\n",
    "c2"
   ]
  },
  {
   "cell_type": "code",
   "execution_count": null,
   "metadata": {},
   "outputs": [],
   "source": [
    "c2.count"
   ]
  },
  {
   "cell_type": "code",
   "execution_count": null,
   "metadata": {},
   "outputs": [],
   "source": [
    "c2.count=6"
   ]
  },
  {
   "cell_type": "code",
   "execution_count": null,
   "metadata": {},
   "outputs": [],
   "source": [
    "c2.count"
   ]
  }
 ],
 "metadata": {
  "kernelspec": {
   "display_name": "Python 3",
   "language": "python",
   "name": "python3"
  },
  "language_info": {
   "codemirror_mode": {
    "name": "ipython",
    "version": 3
   },
   "file_extension": ".py",
   "mimetype": "text/x-python",
   "name": "python",
   "nbconvert_exporter": "python",
   "pygments_lexer": "ipython3",
   "version": "3.6.2"
  }
 },
 "nbformat": 4,
 "nbformat_minor": 2
}
